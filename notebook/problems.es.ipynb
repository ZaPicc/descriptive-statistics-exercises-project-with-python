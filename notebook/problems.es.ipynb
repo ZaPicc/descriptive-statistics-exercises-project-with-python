{
    "cells": [
        {
            "cell_type": "markdown",
            "id": "ac622319",
            "metadata": {},
            "source": [
                "# Problemas de Estadística Descriptica"
            ]
        },
        {
            "cell_type": "markdown",
            "id": "5e0ab0d5",
            "metadata": {},
            "source": [
                "### Ejercicio 1\n",
                "\n",
                "Usaremos NumPy para obtener información y describir estadísticamente.\n",
                "\n",
                "- Generar un arreglo de 100 elementos que sigan una distribución normal.\n",
                "- Generar un arreglo de 100 elementos que sigan una distribución chi-cuadrado con 3 grados de libertad.\n",
                "- Calcular las métricas principales y las medidas estadísticas que mejor describan los dos vectores."
            ]
        },
        {
            "cell_type": "code",
            "execution_count": null,
            "id": "df526fe0",
            "metadata": {},
            "outputs": [],
            "source": [
                "import numpy as np \n",
                "import pandas as pd \n",
                "import statistics as stats"
            ]
        },
        {
            "cell_type": "code",
            "execution_count": 4,
            "id": "34720ab6",
            "metadata": {},
            "outputs": [
                {
                    "data": {
                        "text/plain": [
                            "array([ 0.34649399, -1.47048973, -0.18100496, -0.47602446, -0.12522989,\n",
                            "       -0.87725066,  0.28051359, -0.09752072,  1.91020223, -2.37374701,\n",
                            "       -0.52470571, -1.03484272,  0.46888587, -0.35757023,  0.99546152,\n",
                            "       -0.24747416,  0.00904251,  1.2608922 ,  0.43169385, -0.91856428,\n",
                            "        0.90449072, -2.01171925, -0.6006296 , -0.89737595,  2.26081473,\n",
                            "        0.2023243 ,  0.46601949, -1.66853611,  0.35694925, -1.76564147,\n",
                            "        1.28933453, -0.10688733,  0.8528902 , -0.13291161, -1.54671965,\n",
                            "        0.07270869, -0.95461394,  1.42107453,  1.02611327,  1.03919694,\n",
                            "       -0.3709889 ,  1.32939229,  1.81517325, -2.20571489, -0.27689676,\n",
                            "       -1.04514347, -0.90220621, -0.23453726,  0.48724954,  1.01614657,\n",
                            "        0.43011064,  0.09683927,  0.50442182,  1.21087917,  1.08223135,\n",
                            "       -1.32960085,  0.04549173, -1.82630217,  0.94773782,  1.24293304,\n",
                            "       -0.39501181, -1.20861144, -0.46642314, -0.50295253, -0.9595059 ,\n",
                            "        1.7348461 ,  0.11700221, -1.36467435,  1.01972477,  1.07783498,\n",
                            "       -1.14600487,  0.8413086 , -1.57163071, -0.62037153, -0.8208173 ,\n",
                            "        0.67994123, -1.30194279,  0.34016272, -0.88225415, -2.54958783,\n",
                            "        0.52540694, -1.21426161, -0.86972277, -0.23915712, -0.35817338,\n",
                            "        1.87277689,  2.14211358,  0.41367427,  2.17128338, -0.21564563,\n",
                            "       -0.56692205,  1.18890488, -0.49330399,  0.31177508,  0.30465099,\n",
                            "       -0.46542891,  1.48638679,  1.42863421, -0.28703235,  0.44814707])"
                        ]
                    },
                    "execution_count": 4,
                    "metadata": {},
                    "output_type": "execute_result"
                }
            ],
            "source": [
                "# TODO\n",
                "\n",
                "data_normal_dist = np.random.normal(loc = 0, scale = 1, size = 100)\n",
                "data_normal_dist"
            ]
        },
        {
            "cell_type": "code",
            "execution_count": 5,
            "id": "d4e55cbe",
            "metadata": {},
            "outputs": [
                {
                    "data": {
                        "text/plain": [
                            "array([ 3.35939781,  2.27352555,  2.66541479,  3.80884337,  0.99377289,\n",
                            "        6.28985201,  1.34459075,  1.06602526,  3.70997546,  0.85603402,\n",
                            "        5.42694292,  3.06419152,  1.96126335,  1.72375833,  4.62364561,\n",
                            "        0.59098763,  2.72785673,  0.63693341,  5.64037717, 11.35442059,\n",
                            "        8.59295949,  1.95409566,  0.3202394 ,  3.60627499,  1.57232002,\n",
                            "        4.064426  ,  0.19725179,  3.28861547,  3.2980206 ,  2.00217761,\n",
                            "        4.70351067,  0.80499284,  1.63265082,  5.90010427,  2.42278154,\n",
                            "        0.72614349,  1.56512224,  0.99566389,  2.22320867,  2.86788418,\n",
                            "       13.81228771,  0.95354949,  0.26866639,  4.4453832 ,  1.5943267 ,\n",
                            "        0.97828897, 12.49739975,  0.24455154,  0.92793852,  0.49113696,\n",
                            "        0.97796652,  0.32870969,  2.08244379,  6.65696409,  2.98288445,\n",
                            "        1.4007788 ,  4.74654179,  3.26480812,  4.00885882,  2.62456491,\n",
                            "        4.3838639 ,  0.35173018,  1.73885515,  1.44055417,  0.29405855,\n",
                            "        1.6973466 ,  2.18915613,  1.32541058,  2.97840986,  2.61846474,\n",
                            "        0.8478218 ,  3.23014754,  0.75902093,  9.74732349,  4.84002521,\n",
                            "        2.38604573,  1.89705376,  2.2058908 ,  0.73630881,  0.50546116,\n",
                            "        0.80996916,  2.49121031,  0.88009319,  5.68758352,  0.05469017,\n",
                            "        2.02500594,  1.50899252,  1.19537442,  1.27256158,  1.1859555 ,\n",
                            "        2.23926172,  0.32924728,  5.19585859,  2.42792334,  1.42936482,\n",
                            "        2.63396736,  1.16863266,  0.67571955,  1.96762353,  1.91478527])"
                        ]
                    },
                    "execution_count": 5,
                    "metadata": {},
                    "output_type": "execute_result"
                }
            ],
            "source": [
                "data_chi_dist = np.random.chisquare(df=3, size=100)\n",
                "data_chi_dist"
            ]
        },
        {
            "cell_type": "code",
            "execution_count": 7,
            "id": "b947d6cd",
            "metadata": {},
            "outputs": [
                {
                    "data": {
                        "text/html": [
                            "<div>\n",
                            "<style scoped>\n",
                            "    .dataframe tbody tr th:only-of-type {\n",
                            "        vertical-align: middle;\n",
                            "    }\n",
                            "\n",
                            "    .dataframe tbody tr th {\n",
                            "        vertical-align: top;\n",
                            "    }\n",
                            "\n",
                            "    .dataframe thead th {\n",
                            "        text-align: right;\n",
                            "    }\n",
                            "</style>\n",
                            "<table border=\"1\" class=\"dataframe\">\n",
                            "  <thead>\n",
                            "    <tr style=\"text-align: right;\">\n",
                            "      <th></th>\n",
                            "      <th>Value</th>\n",
                            "    </tr>\n",
                            "  </thead>\n",
                            "  <tbody>\n",
                            "    <tr>\n",
                            "      <th>0</th>\n",
                            "      <td>3.359398</td>\n",
                            "    </tr>\n",
                            "    <tr>\n",
                            "      <th>1</th>\n",
                            "      <td>2.273526</td>\n",
                            "    </tr>\n",
                            "    <tr>\n",
                            "      <th>2</th>\n",
                            "      <td>2.665415</td>\n",
                            "    </tr>\n",
                            "    <tr>\n",
                            "      <th>3</th>\n",
                            "      <td>3.808843</td>\n",
                            "    </tr>\n",
                            "    <tr>\n",
                            "      <th>4</th>\n",
                            "      <td>0.993773</td>\n",
                            "    </tr>\n",
                            "    <tr>\n",
                            "      <th>...</th>\n",
                            "      <td>...</td>\n",
                            "    </tr>\n",
                            "    <tr>\n",
                            "      <th>95</th>\n",
                            "      <td>2.633967</td>\n",
                            "    </tr>\n",
                            "    <tr>\n",
                            "      <th>96</th>\n",
                            "      <td>1.168633</td>\n",
                            "    </tr>\n",
                            "    <tr>\n",
                            "      <th>97</th>\n",
                            "      <td>0.675720</td>\n",
                            "    </tr>\n",
                            "    <tr>\n",
                            "      <th>98</th>\n",
                            "      <td>1.967624</td>\n",
                            "    </tr>\n",
                            "    <tr>\n",
                            "      <th>99</th>\n",
                            "      <td>1.914785</td>\n",
                            "    </tr>\n",
                            "  </tbody>\n",
                            "</table>\n",
                            "<p>100 rows × 1 columns</p>\n",
                            "</div>"
                        ],
                        "text/plain": [
                            "       Value\n",
                            "0   3.359398\n",
                            "1   2.273526\n",
                            "2   2.665415\n",
                            "3   3.808843\n",
                            "4   0.993773\n",
                            "..       ...\n",
                            "95  2.633967\n",
                            "96  1.168633\n",
                            "97  0.675720\n",
                            "98  1.967624\n",
                            "99  1.914785\n",
                            "\n",
                            "[100 rows x 1 columns]"
                        ]
                    },
                    "execution_count": 7,
                    "metadata": {},
                    "output_type": "execute_result"
                }
            ],
            "source": [
                "# Los convierto en Dataframes \n",
                "df_normal = pd.DataFrame(data_normal_dist)\n",
                "df_normal.columns = [\"Value\"]\n",
                "df_normal\n",
                "\n",
                "df_chisquare = pd.DataFrame(data_chi_dist)\n",
                "df_chisquare.columns = [\"Value\"]\n",
                "df_chisquare"
            ]
        },
        {
            "cell_type": "code",
            "execution_count": 9,
            "id": "2fc95168",
            "metadata": {},
            "outputs": [
                {
                    "name": "stdout",
                    "output_type": "stream",
                    "text": [
                        "            Value\n",
                        "count  100.000000\n",
                        "mean    -0.011520\n",
                        "std      1.088064\n",
                        "min     -2.549588\n",
                        "25%     -0.871605\n",
                        "50%     -0.102204\n",
                        "75%      0.865790\n",
                        "max      2.260815\n",
                        "            Value\n",
                        "count  100.000000\n",
                        "mean     2.654111\n",
                        "std      2.537437\n",
                        "min      0.054690\n",
                        "25%      0.978208\n",
                        "50%      1.964443\n",
                        "75%      3.290967\n",
                        "max     13.812288\n"
                    ]
                }
            ],
            "source": [
                "# Aplico describe a cada uno de los DF \n",
                "\n",
                "print(df_normal.describe())\n",
                "print(df_chisquare.describe())\n"
            ]
        },
        {
            "cell_type": "code",
            "execution_count": 23,
            "id": "b19850e1",
            "metadata": {},
            "outputs": [
                {
                    "name": "stdout",
                    "output_type": "stream",
                    "text": [
                        "La media del DF con distribución normal es: -0.011520024803395059\n",
                        "La media del DF con distribución chisquare es: 2.6541107257972545\n",
                        "La mmoda del DF con distribución normal es: 0.34649399428845296\n",
                        "La moda del DF con distribución chisquare es: 3.3593978090866345\n",
                        "La mediana del DF con distribución normal es: -0.10220402569069169\n",
                        "La mediana del DF con distribución chisquare es: 1.9644434382916784\n"
                    ]
                }
            ],
            "source": [
                "# Calculo media, mediana y moda para ambas \n",
                "\n",
                "# Media \n",
                "\n",
                "df_normal_mean = np.mean(df_normal)\n",
                "df_chisquare_mean = np.mean(df_chisquare)\n",
                "\n",
                "print(f\"La media del DF con distribución normal es: {df_normal_mean}\")\n",
                "print(f\"La media del DF con distribución chisquare es: {df_chisquare_mean}\")\n",
                "\n",
                "# Moda \n",
                "\n",
                "df_normal_mode = stats.mode(df_normal[\"Value\"])\n",
                "df_chisquare_mode = stats.mode(df_chisquare[\"Value\"])\n",
                "\n",
                "print(f\"La mmoda del DF con distribución normal es: {df_normal_mode}\")\n",
                "print(f\"La moda del DF con distribución chisquare es: {df_chisquare_mode}\")\n",
                "\n",
                "# Mediana \n",
                "\n",
                "df_normal_median = stats.median(df_normal[\"Value\"])\n",
                "df_chisquare_median= stats.median(df_chisquare[\"Value\"])\n",
                "\n",
                "print(f\"La mediana del DF con distribución normal es: {df_normal_median}\")\n",
                "print(f\"La mediana del DF con distribución chisquare es: {df_chisquare_median}\")\n"
            ]
        },
        {
            "cell_type": "code",
            "execution_count": 36,
            "id": "19b1a7f4",
            "metadata": {},
            "outputs": [
                {
                    "name": "stdout",
                    "output_type": "stream",
                    "text": [
                        "El rango del DF con distribución normal es: 4.810402560646841\n",
                        "El rango del DF con distribución chisquare es: 13.757597539213048\n",
                        "La Varianza del DF con distribución normal es: 1.1838835226129716\n",
                        "La Varianza del DF con distribución chisquare es: 6.438587053182134\n",
                        "La Desviación estandar del DF con distribución normal es: 1.0826101271403488\n",
                        "La Desviación estandar del DF con distribución chisquare es: 2.524718040227525\n"
                    ]
                }
            ],
            "source": [
                "# Calcular rango, varianza y desviación estandar \n",
                "\n",
                "# Rango \n",
                "\n",
                "df_normal_max_value = np.max(df_normal[\"Value\"])\n",
                "df_normal_min_value = np.min(df_normal[\"Value\"])\n",
                "df_normal_range = df_normal_max_value - df_normal_min_value\n",
                "\n",
                "print(f\"El rango del DF con distribución normal es: {df_normal_range}\")\n",
                "\n",
                "\n",
                "df_chisquare_max_value = np.max(df_chisquare[\"Value\"])\n",
                "df_chisquare_min_value = np.min(df_chisquare[\"Value\"])\n",
                "df_chisquare_range = df_chisquare_max_value - df_chisquare_min_value\n",
                "\n",
                "print(f\"El rango del DF con distribución chisquare es: {df_chisquare_range}\")\n",
                "\n",
                "# Varianza \n",
                "\n",
                "df_normal_var = stats.variance(df_normal[\"Value\"])\n",
                "print(f\"La Varianza del DF con distribución normal es: {df_normal_var}\")\n",
                "\n",
                "df_chisquare_var = stats.variance(df_chisquare[\"Value\"])\n",
                "print(f\"La Varianza del DF con distribución chisquare es: {df_chisquare_var}\")\n",
                "\n",
                "# Desviación estandar \n",
                "\n",
                "df_normal_dev_std = np.std(df_normal[\"Value\"])\n",
                "print(f\"La Desviación estandar del DF con distribución normal es: {df_normal_dev_std}\")\n",
                "\n",
                "df_chisquare_dev_std = np.std(df_chisquare[\"Value\"])\n",
                "print(f\"La Desviación estandar del DF con distribución chisquare es: {df_chisquare_dev_std}\")\n"
            ]
        },
        {
            "cell_type": "code",
            "execution_count": 37,
            "id": "067f7107",
            "metadata": {},
            "outputs": [
                {
                    "name": "stdout",
                    "output_type": "stream",
                    "text": [
                        "Asimetría del DF con distribución normal: -0.03953567513767355 Asimetría del DF con ditribución chisquare: 2.2233633156278576\n",
                        "Curtosis del DF con distribución normal: -0.5411145849657819 Curtosis del DF con ditribución chisquare: 5.832624811902008\n"
                    ]
                }
            ],
            "source": [
                "# Luego de comparar con la solución vi que me faltaba esto que no conocia. \n",
                "\n",
                "# Asimetria y Curtosis \n",
                "\n",
                "# Asimetría: Mide la simetría de los datos (si están sesgados a la derecha o a la izquierda).\n",
                "\n",
                "from scipy.stats import skew, kurtosis \n",
                "\n",
                "skewkness_df_normal = skew(df_normal[\"Value\"])\n",
                "skewkness_df_chisquare = skew(df_chisquare[\"Value\"])\n",
                "\n",
                "print(f\"Asimetría del DF con distribución normal: {skewkness_df_normal} Asimetría del DF con ditribución chisquare: {skewkness_df_chisquare}\")\n",
                "\n",
                "# Curtosis: Mide la \"altitud\" de las colas de la distribución (si son más altas o más bajas que la distribución normal).\n",
                "\n",
                "kurtosis_df_normal = kurtosis(df_normal[\"Value\"])\n",
                "kurtosis_df_chisquare = kurtosis(df_chisquare[\"Value\"])\n",
                "\n",
                "print(f\"Curtosis del DF con distribución normal: {kurtosis_df_normal} Curtosis del DF con ditribución chisquare: {kurtosis_df_chisquare}\")\n",
                "\n",
                "\n",
                "\n",
                "\n"
            ]
        },
        {
            "cell_type": "markdown",
            "id": "46c70c3d",
            "metadata": {},
            "source": [
                "### Ejercicio 2\n",
                "\n",
                "Escribe un programa en Python para calcular la desviación estándar de los siguientes datos:\n",
                "\n",
                "```py\n",
                "data = [4, 2, 5, 8, 6]\n",
                "```"
            ]
        },
        {
            "cell_type": "code",
            "execution_count": 1,
            "id": "d590308e",
            "metadata": {},
            "outputs": [
                {
                    "name": "stdout",
                    "output_type": "stream",
                    "text": [
                        "La desviación estandar de [4, 2, 5, 8, 6] es 2.0\n"
                    ]
                }
            ],
            "source": [
                "# TODO\n",
                "from math import sqrt \n",
                "\n",
                "data = [4,2,5,8,6]\n",
                "\n",
                "# df = pd.DataFrame(data)\n",
                "# df.columns = [\"Value\"]\n",
                "# df_dev_std = np.std(df[\"Value\"])\n",
                "# print(df_dev_std)\n",
                "\n",
                "count = 0\n",
                "for i in data: \n",
                "    count += i\n",
                "df_mean = count / len(data) \n",
                "\n",
                "df_mean\n",
                "\n",
                "result = 0 \n",
                "for i in data: \n",
                "    result += (i - df_mean)**2 \n",
                "\n",
                "output = result / len(data)\n",
                "\n",
                "scuare_root = sqrt(output) \n",
                "scuare_root \n",
                "\n",
                "print(f\"\"\"La desviación estandar de {data} es {scuare_root}\"\"\")\n",
                "\n"
            ]
        }
    ],
    "metadata": {
        "kernelspec": {
            "display_name": "Python 3",
            "language": "python",
            "name": "python3"
        },
        "language_info": {
            "codemirror_mode": {
                "name": "ipython",
                "version": 3
            },
            "file_extension": ".py",
            "mimetype": "text/x-python",
            "name": "python",
            "nbconvert_exporter": "python",
            "pygments_lexer": "ipython3",
            "version": "3.11.4"
        }
    },
    "nbformat": 4,
    "nbformat_minor": 5
}
